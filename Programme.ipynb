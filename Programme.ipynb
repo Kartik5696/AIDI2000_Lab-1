{
  "nbformat": 4,
  "nbformat_minor": 0,
  "metadata": {
    "colab": {
      "name": "Programme.ipynb",
      "provenance": [],
      "authorship_tag": "ABX9TyN/fo90FejDxJlqcIIXL+M8",
      "include_colab_link": true
    },
    "kernelspec": {
      "name": "python3",
      "display_name": "Python 3"
    }
  },
  "cells": [
    {
      "cell_type": "markdown",
      "metadata": {
        "id": "view-in-github",
        "colab_type": "text"
      },
      "source": [
        "<a href=\"https://colab.research.google.com/github/Kartik5696/AIDI2000_Lab-1/blob/main/Programme.ipynb\" target=\"_parent\"><img src=\"https://colab.research.google.com/assets/colab-badge.svg\" alt=\"Open In Colab\"/></a>"
      ]
    },
    {
      "cell_type": "code",
      "metadata": {
        "colab": {
          "base_uri": "https://localhost:8080/"
        },
        "id": "sjSf0YVSTOYN",
        "outputId": "182fc1d9-2c64-426d-f9f0-554537ddf70a"
      },
      "source": [
        "mass_kg = int(input(\"What is your mass in kilograms?\" ))\r\n",
        "mass_stone = mass_kg * 2.2 / 14\r\n",
        "print(\"You weigh\", mass_stone, \"stone.\")"
      ],
      "execution_count": 1,
      "outputs": [
        {
          "output_type": "stream",
          "text": [
            "What is your mass in kilograms?57\n",
            "You weigh 8.957142857142857 stone.\n"
          ],
          "name": "stdout"
        }
      ]
    }
  ]
}